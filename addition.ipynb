{
 "cells": [
  {
   "cell_type": "code",
   "execution_count": 4,
   "metadata": {},
   "outputs": [
    {
     "ename": "SyntaxError",
     "evalue": "keyword can't be an expression (<ipython-input-4-83d8e100db55>, line 3)",
     "output_type": "error",
     "traceback": [
      "\u001b[1;36m  File \u001b[1;32m\"<ipython-input-4-83d8e100db55>\"\u001b[1;36m, line \u001b[1;32m3\u001b[0m\n\u001b[1;33m    print(\"a+b\"=a+b)\u001b[0m\n\u001b[1;37m         ^\u001b[0m\n\u001b[1;31mSyntaxError\u001b[0m\u001b[1;31m:\u001b[0m keyword can't be an expression\n"
     ]
    }
   ],
   "source": [
    "a=int(input(\"enter the no.\"))\n",
    "b=int(input(\"enter the no.\"))\n",
    "print(\"a+b\"=a+b)\n",
    "print(\"a*b\"=a*b)\n",
    "print(\"a/b\"=a/b)"
   ]
  },
  {
   "cell_type": "code",
   "execution_count": 12,
   "metadata": {},
   "outputs": [
    {
     "name": "stdout",
     "output_type": "stream",
     "text": [
      "enter the no.225\n",
      "enter the no.125\n",
      "a+b 350\n",
      "a*b 28125\n",
      "a/b 1.8\n",
      "a-b 100\n"
     ]
    }
   ],
   "source": [
    "a=int(input(\"enter the no.\"))\n",
    "b=int(input(\"enter the no.\"))\n",
    "print(\"a+b\",a+b)\n",
    "print(\"a*b\",a*b)\n",
    "print(\"a/b\",a/b)\n",
    "print(\"a-b\",a-b)"
   ]
  },
  {
   "cell_type": "code",
   "execution_count": null,
   "metadata": {},
   "outputs": [],
   "source": []
  }
 ],
 "metadata": {
  "kernelspec": {
   "display_name": "Python 3",
   "language": "python",
   "name": "python3"
  },
  "language_info": {
   "codemirror_mode": {
    "name": "ipython",
    "version": 3
   },
   "file_extension": ".py",
   "mimetype": "text/x-python",
   "name": "python",
   "nbconvert_exporter": "python",
   "pygments_lexer": "ipython3",
   "version": "3.7.1"
  }
 },
 "nbformat": 4,
 "nbformat_minor": 2
}
